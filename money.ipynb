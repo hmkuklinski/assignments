{
 "cells": [
  {
   "cell_type": "markdown",
   "metadata": {},
   "source": [
    "Decomposing Money\n",
    "---"
   ]
  },
  {
   "cell_type": "markdown",
   "metadata": {},
   "source": [
    "---\n",
    "In the first line of code, we will ask the user to input a numerical value from 1 to 9999"
   ]
  },
  {
   "cell_type": "code",
   "execution_count": 1,
   "metadata": {},
   "outputs": [
    {
     "name": "stdout",
     "output_type": "stream",
     "text": [
      "Enter a number 1-9999:  23\n"
     ]
    }
   ],
   "source": [
    "entry = int(input(\"Enter a number 1-9999: \"))\n",
    "while entry <1 or entry>9999:\n",
    "    print(\"Invalid entry. Please enter a number within the range.\")\n",
    "    entry = int(input(\"Enter a number 1-9999\"))"
   ]
  },
  {
   "cell_type": "markdown",
   "metadata": {},
   "source": [
    "The accompanying while loop makes sure that the user's entry is within our desired range. If it is outside of the range, the loop will prompt the user to enter a new value. \n",
    "\n",
    "If the new entry is within our desired range, then the conditional will not be met (meaning this loop will not run again and it will continue on to the rest of the code)\n"
   ]
  },
  {
   "cell_type": "markdown",
   "metadata": {},
   "source": [
    "---"
   ]
  },
  {
   "cell_type": "markdown",
   "metadata": {},
   "source": [
    "In the next section, we break down the number given by the user into our desired \"denominations\".\n",
    "\n",
    "The first demonination is the biggest one: a Grand. \n",
    "A Grand is 1000.\n",
    "\n",
    "To find out how many grands the given number has, we can divide the given value by 1000 using integer division. The integer division truncates the remaining decimal, giving us only the complete number of divisions our number is by a grand.\n",
    "\n",
    "To find out what our remaining number is after we complete the division, we can use the % to find the remainder and set it to a new variable (in order to complete the other denomination calculations later)"
   ]
  },
  {
   "cell_type": "code",
   "execution_count": 3,
   "metadata": {},
   "outputs": [
    {
     "name": "stdout",
     "output_type": "stream",
     "text": [
      "Enter a number 1-9999:  23333\n"
     ]
    },
    {
     "name": "stdout",
     "output_type": "stream",
     "text": [
      "Invalid entry. Please enter a number within the range.\n"
     ]
    },
    {
     "name": "stdout",
     "output_type": "stream",
     "text": [
      "Enter a number 1-9999 233\n"
     ]
    },
    {
     "name": "stdout",
     "output_type": "stream",
     "text": [
      "0  grands\n"
     ]
    }
   ],
   "source": [
    "entry = int(input(\"Enter a number 1-9999: \"))\n",
    "while entry <1 or entry>9999:\n",
    "    print(\"Invalid entry. Please enter a number within the range.\")\n",
    "    entry = int(input(\"Enter a number 1-9999\"))\n",
    "\n",
    "num_grands = int(entry/1000)\n",
    "remain = entry % 1000\n",
    "print(num_grands, \" grands\")"
   ]
  },
  {
   "cell_type": "markdown",
   "metadata": {},
   "source": [
    "Finally, we will print out the number of grands that were in the entered number.\n",
    "\n",
    "---\n",
    "\n",
    "In the next step, we will calculate the number of \"Benjamins\" that our number has.\n",
    "\n",
    "In the previous step, we calculated the remaining value of our number after dividing by 1000 and are left with a number that is less than or equal to 999. \n",
    "\n",
    "The \"Benjamin\" has a value of 100.\n",
    "We will use the same idea to calculate the hundreds, except this time we will divide the remaining number by 100."
   ]
  },
  {
   "cell_type": "code",
   "execution_count": null,
   "metadata": {},
   "outputs": [],
   "source": [
    "entry = int(input(\"Enter a number 1-9999: \"))\n",
    "while entry <1 or entry>9999:\n",
    "    print(\"Invalid entry. Please enter a number within the range.\")\n",
    "    entry = int(input(\"Enter a number 1-9999\"))\n",
    "    \n",
    "num_grands = int(entry/1000)\n",
    "remain = entry % 1000\n",
    "print(num_grands, \" grands\")\n",
    "\n",
    "num_hundreds = int(remain/100)\n",
    "remain %= 100\n",
    "print(num_hundreds, \" Benjamins\")"
   ]
  },
  {
   "cell_type": "markdown",
   "metadata": {},
   "source": [
    "After the division is completed, we will once again update the remaining number by finding the remainder.\n",
    "\n",
    "Finally, we will print the total number of Benjamins of the entered number.\n",
    "\n",
    "---"
   ]
  },
  {
   "cell_type": "markdown",
   "metadata": {},
   "source": [
    "As a result of the previous two sections, our entered number is now less than 100. \n",
    "\n",
    "The process we use to calculate the total number of \"sawbucks\" is similar to those used previously.\n",
    "\n",
    "The \"sawbucks\" has a value of 10, so we will first divide the remaining value by 10 using integer division.\n",
    "\n",
    "The remaining value will simply become the number of \"bucks\" that we have because there is no smaller denomination. (note: \"bucks\" are equal to 1)"
   ]
  },
  {
   "cell_type": "code",
   "execution_count": null,
   "metadata": {},
   "outputs": [],
   "source": [
    "entry = int(input(\"Enter a number 1-9999: \"))\n",
    "while entry <1 or entry>9999:\n",
    "    print(\"Invalid entry. Please enter a number within the range.\")\n",
    "    entry = int(input(\"Enter a number 1-9999\"))\n",
    "    \n",
    "num_grands = int(entry/1000)\n",
    "remain = entry % 1000\n",
    "print(num_grands, \" grands\")\n",
    "\n",
    "num_hundreds = int(remain/100)\n",
    "remain %= 100\n",
    "print(num_hundreds, \" Benjamins\")\n",
    "\n",
    "num_tens = int(remain/10)\n",
    "remain %= 10\n",
    "print(num_tens, \" sawbucks\")\n",
    "\n",
    "print(remain, \" bucks\")"
   ]
  }
 ],
 "metadata": {
  "kernelspec": {
   "display_name": "Python 3",
   "language": "python",
   "name": "python3"
  },
  "language_info": {
   "codemirror_mode": {
    "name": "ipython",
    "version": 3
   },
   "file_extension": ".py",
   "mimetype": "text/x-python",
   "name": "python",
   "nbconvert_exporter": "python",
   "pygments_lexer": "ipython3",
   "version": "3.8.3"
  }
 },
 "nbformat": 4,
 "nbformat_minor": 4
}
